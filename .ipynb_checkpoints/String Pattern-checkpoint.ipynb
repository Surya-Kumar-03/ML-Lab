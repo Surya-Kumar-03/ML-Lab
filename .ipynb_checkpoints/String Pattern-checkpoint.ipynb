{
 "cells": [
  {
   "cell_type": "code",
   "execution_count": 5,
   "id": "23845dd5",
   "metadata": {},
   "outputs": [
    {
     "name": "stdout",
     "output_type": "stream",
     "text": [
      "Enter N and M: 9 27\n",
      "------------.|.------------\n",
      "---------.|..|..|.---------\n",
      "------.|..|..|..|..|.------\n",
      "---.|..|..|..|..|..|..|.---\n",
      "----------WELCOME----------\n",
      "---.|..|..|..|..|..|..|.---\n",
      "------.|..|..|..|..|.------\n",
      "---------.|..|..|.---------\n",
      "------------.|.------------\n"
     ]
    }
   ],
   "source": [
    "import math\n",
    "N, M = map(int, input(\"Enter N and M: \").split())\n",
    "for i in range(0, math.floor(N/2)):\n",
    "    s = '.|.'*i\n",
    "    print(s.rjust(math.floor((M-2)/2),'-')+\".|.\"+s.ljust(math.floor((M-2)/2),\"-\"))\n",
    "print(\"WELCOME\".center(M,\"-\"))    \n",
    "for i in reversed(range(0, math.floor(N/2))):\n",
    "    s = '.|.'*i\n",
    "    print(s.rjust(math.floor((M-2)/2),'-')+\".|.\"+s.ljust(math.floor((M-2)/2),\"-\"))"
   ]
  },
  {
   "cell_type": "code",
   "execution_count": null,
   "id": "5bfff45d",
   "metadata": {},
   "outputs": [],
   "source": []
  }
 ],
 "metadata": {
  "kernelspec": {
   "display_name": "Python 3 (ipykernel)",
   "language": "python",
   "name": "python3"
  },
  "language_info": {
   "codemirror_mode": {
    "name": "ipython",
    "version": 3
   },
   "file_extension": ".py",
   "mimetype": "text/x-python",
   "name": "python",
   "nbconvert_exporter": "python",
   "pygments_lexer": "ipython3",
   "version": "3.9.13"
  }
 },
 "nbformat": 4,
 "nbformat_minor": 5
}
