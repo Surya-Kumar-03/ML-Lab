{
 "cells": [
  {
   "cell_type": "code",
   "execution_count": 2,
   "id": "17192cef",
   "metadata": {},
   "outputs": [
    {
     "name": "stdout",
     "output_type": "stream",
     "text": [
      "['0', '1', '0', '1', '1', '1', '0', '1', '0', '1', '0', '0', '0', '1', '1', '1', '0', '1', '1', '0']\n",
      "['0', '0', '0', '0', '1', '0', '1', '1', '1', '1', '0', '0', '0', '0', '0', '1', '0', '1', '1', '0']\n"
     ]
    }
   ],
   "source": [
    "y=['0','1','0','1','1','1','0','1','0','1','0','0','0','1','1','1','0','1','1','0'] \n",
    "y_pred = ['0','0','0','0','1','0','1','1','1','1','0','0','0','0','0','1','0','1','1','0']\n",
    "print(y)\n",
    "print(y_pred)"
   ]
  },
  {
   "cell_type": "code",
   "execution_count": 7,
   "id": "2e8ffd51",
   "metadata": {},
   "outputs": [],
   "source": [
    "TP, TN, FP, FN = 0, 0, 0, 0\n",
    "for i in range(0, len(y)):\n",
    "    if y_pred[i] =='1' and y[i] == '1':\n",
    "        TP += 1\n",
    "    elif y_pred[i] == '0' and y[i] == '1':\n",
    "        FP += 1\n",
    "    elif y_pred[i] == '1' and y[i] == '0':\n",
    "        FN += 1\n",
    "    else:\n",
    "        TN += 1\n",
    "confusion_matrix = [TP, TN, FP, FN]"
   ]
  },
  {
   "cell_type": "code",
   "execution_count": 8,
   "id": "2932ab03",
   "metadata": {},
   "outputs": [
    {
     "name": "stdout",
     "output_type": "stream",
     "text": [
      "Confusion Matrix:  [6, 7, 5, 2]\n"
     ]
    }
   ],
   "source": [
    "print(\"Confusion Matrix: \", confusion_matrix)"
   ]
  },
  {
   "cell_type": "code",
   "execution_count": 9,
   "id": "30996203",
   "metadata": {},
   "outputs": [
    {
     "name": "stdout",
     "output_type": "stream",
     "text": [
      "Accuracy:  0.65\n"
     ]
    }
   ],
   "source": [
    "accuracy = (TP + TN)/(TP + TN + FP + FN)\n",
    "print(\"Accuracy: \", accuracy)"
   ]
  },
  {
   "cell_type": "code",
   "execution_count": 11,
   "id": "7a07a164",
   "metadata": {},
   "outputs": [
    {
     "name": "stdout",
     "output_type": "stream",
     "text": [
      "Precision:  0.5454545454545454\n"
     ]
    }
   ],
   "source": [
    "precision = TP / (TP + FP)\n",
    "print(\"Precision: \", precision)"
   ]
  },
  {
   "cell_type": "code",
   "execution_count": 12,
   "id": "20e9aa0b",
   "metadata": {},
   "outputs": [
    {
     "name": "stdout",
     "output_type": "stream",
     "text": [
      "Recall:  0.75\n"
     ]
    }
   ],
   "source": [
    "recall = TP / (TP + FN)\n",
    "print(\"Recall: \", recall)"
   ]
  },
  {
   "cell_type": "code",
   "execution_count": 13,
   "id": "4f6bc085",
   "metadata": {},
   "outputs": [
    {
     "name": "stdout",
     "output_type": "stream",
     "text": [
      "Sensitivity:  0.75\n"
     ]
    }
   ],
   "source": [
    "sensitivity = TP / (TP + FN)\n",
    "print(\"Sensitivity: \", sensitivity)"
   ]
  },
  {
   "cell_type": "code",
   "execution_count": 14,
   "id": "704e6d44",
   "metadata": {},
   "outputs": [
    {
     "name": "stdout",
     "output_type": "stream",
     "text": [
      "Specificity:  0.5833333333333334\n"
     ]
    }
   ],
   "source": [
    "specificity = TN / (TN + FP)\n",
    "print(\"Specificity: \", specificity)"
   ]
  },
  {
   "cell_type": "code",
   "execution_count": 16,
   "id": "0ad4ff8c",
   "metadata": {},
   "outputs": [
    {
     "name": "stdout",
     "output_type": "stream",
     "text": [
      "ME:  0.35\n"
     ]
    }
   ],
   "source": [
    "me = 1 - accuracy\n",
    "print(\"ME: \", me)"
   ]
  }
 ],
 "metadata": {
  "kernelspec": {
   "display_name": "Python 3 (ipykernel)",
   "language": "python",
   "name": "python3"
  },
  "language_info": {
   "codemirror_mode": {
    "name": "ipython",
    "version": 3
   },
   "file_extension": ".py",
   "mimetype": "text/x-python",
   "name": "python",
   "nbconvert_exporter": "python",
   "pygments_lexer": "ipython3",
   "version": "3.9.13"
  }
 },
 "nbformat": 4,
 "nbformat_minor": 5
}
