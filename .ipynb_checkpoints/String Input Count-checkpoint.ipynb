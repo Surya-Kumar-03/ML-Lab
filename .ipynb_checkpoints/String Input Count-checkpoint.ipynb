{
 "cells": [
  {
   "cell_type": "code",
   "execution_count": 1,
   "id": "1d294f4e",
   "metadata": {},
   "outputs": [
    {
     "name": "stdout",
     "output_type": "stream",
     "text": [
      "Enter Input: Surya123& *\n",
      "Digits:  3\n",
      "Lowercase:  4\n",
      "Uppercase:  1\n",
      "Special Characters:  2\n",
      "Alphabets:  5\n"
     ]
    }
   ],
   "source": [
    "def count(input):\n",
    "    alpha, lower, upper, special_char, digit = 0, 0, 0, 0, 0\n",
    "    for i in range(len(input)):\n",
    "        if input[i].isalpha():\n",
    "            alpha += 1\n",
    "            if input[i].islower():\n",
    "                lower += 1\n",
    "            else:\n",
    "                upper += 1\n",
    "        elif input[i].isdigit():\n",
    "            digit += 1\n",
    "        elif input[i] != \" \":\n",
    "            special_char += 1\n",
    "    print(\"Digits: \", digit)\n",
    "    print(\"Lowercase: \", lower)\n",
    "    print(\"Uppercase: \", upper)\n",
    "    print(\"Special Characters: \", special_char)\n",
    "    print(\"Alphabets: \", alpha)\n",
    "\n",
    "str = input(\"Enter Input: \")\n",
    "count(str)"
   ]
  },
  {
   "cell_type": "code",
   "execution_count": null,
   "id": "6d4183c2",
   "metadata": {},
   "outputs": [],
   "source": []
  }
 ],
 "metadata": {
  "kernelspec": {
   "display_name": "Python 3 (ipykernel)",
   "language": "python",
   "name": "python3"
  },
  "language_info": {
   "codemirror_mode": {
    "name": "ipython",
    "version": 3
   },
   "file_extension": ".py",
   "mimetype": "text/x-python",
   "name": "python",
   "nbconvert_exporter": "python",
   "pygments_lexer": "ipython3",
   "version": "3.9.13"
  }
 },
 "nbformat": 4,
 "nbformat_minor": 5
}
