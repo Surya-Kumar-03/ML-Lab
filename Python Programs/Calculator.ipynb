{
 "cells": [
  {
   "cell_type": "code",
   "execution_count": 1,
   "id": "0ba02668",
   "metadata": {},
   "outputs": [
    {
     "name": "stdout",
     "output_type": "stream",
     "text": [
      "Operations: +, -, *, /\n",
      "Select your Operator: +\n",
      "Enter First Number: 10\n",
      "Enter Second Number: 20\n",
      "Sum is:  30.0\n"
     ]
    }
   ],
   "source": [
    "print(\"Operations: +, -, *, /\")\n",
    "op = input(\"Select your Operator: \")\n",
    "num1 = float(input(\"Enter First Number: \"))\n",
    "num2 = float(input(\"Enter Second Number: \"))\n",
    "if op == '+':\n",
    "    print(\"Sum is: \", num1 + num2)\n",
    "elif op == '-':\n",
    "    print(\"Difference is: \", num1 - num2)\n",
    "elif op == '*':\n",
    "    print(\"Product is: \", num1 * num2)\n",
    "elif op == '/':\n",
    "    print(\"Quotient is: \", num1 / num2)\n",
    "else:\n",
    "    print(\"Invalid Input!\")"
   ]
  },
  {
   "cell_type": "code",
   "execution_count": null,
   "id": "de846de9",
   "metadata": {},
   "outputs": [],
   "source": []
  }
 ],
 "metadata": {
  "kernelspec": {
   "display_name": "Python 3 (ipykernel)",
   "language": "python",
   "name": "python3"
  },
  "language_info": {
   "codemirror_mode": {
    "name": "ipython",
    "version": 3
   },
   "file_extension": ".py",
   "mimetype": "text/x-python",
   "name": "python",
   "nbconvert_exporter": "python",
   "pygments_lexer": "ipython3",
   "version": "3.9.13"
  }
 },
 "nbformat": 4,
 "nbformat_minor": 5
}
