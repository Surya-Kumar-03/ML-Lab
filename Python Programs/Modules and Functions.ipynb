{
 "cells": [
  {
   "cell_type": "code",
   "execution_count": 3,
   "id": "80cde354",
   "metadata": {},
   "outputs": [
    {
     "name": "stdout",
     "output_type": "stream",
     "text": [
      "Enter the first number: 10\n",
      "Enter the second number: 20\n",
      "Sum =  30\n",
      "Product =  200\n",
      "Divisor =  0.5\n"
     ]
    }
   ],
   "source": [
    "def summation(a, b):\n",
    "    return a + b\n",
    "def multiplication(a, b):\n",
    "    return a * b\n",
    "def divide(a, b):\n",
    "    return a /b\n",
    "num1 = int(input(\"Enter the first number: \"))\n",
    "num2 = int(input(\"Enter the second number: \"))\n",
    "print(\"Sum = \", summation(num1, num2))\n",
    "print(\"Product = \", multiplication(num1, num2))\n",
    "print(\"Divisor = \", divide(num1, num2))"
   ]
  },
  {
   "cell_type": "code",
   "execution_count": null,
   "id": "10d7034e",
   "metadata": {},
   "outputs": [],
   "source": []
  }
 ],
 "metadata": {
  "kernelspec": {
   "display_name": "Python 3 (ipykernel)",
   "language": "python",
   "name": "python3"
  },
  "language_info": {
   "codemirror_mode": {
    "name": "ipython",
    "version": 3
   },
   "file_extension": ".py",
   "mimetype": "text/x-python",
   "name": "python",
   "nbconvert_exporter": "python",
   "pygments_lexer": "ipython3",
   "version": "3.9.13"
  }
 },
 "nbformat": 4,
 "nbformat_minor": 5
}
